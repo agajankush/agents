{
 "cells": [
  {
   "cell_type": "code",
   "execution_count": null,
   "id": "78d5e2b6",
   "metadata": {},
   "outputs": [],
   "source": [
    "from typing import Annotated\n",
    "from langgraph.graph import StateGraph, START, END\n",
    "from langgraph.graph.message import add_messages\n",
    "from dotenv import load_dotenv\n",
    "import gradio as gr\n",
    "from langchain_openai import ChatOpenAI\n",
    "from pydantic import BaseModel\n",
    "import random\n",
    "from IPython.display import Image, display"
   ]
  },
  {
   "cell_type": "code",
   "execution_count": null,
   "id": "2c13cc1e",
   "metadata": {},
   "outputs": [],
   "source": [
    "# Some useful constants\n",
    "\n",
    "nouns = [\"Cabbages\", \"Unicorns\", \"Toasters\", \"Penguins\", \"Bananas\", \"Zombies\", \"Rainbows\", \"Eels\", \"Pickles\", \"Muffins\"]\n",
    "adjectives = [\"outrageous\", \"smelly\", \"pedantic\", \"existential\", \"moody\", \"sparkly\", \"untrustworthy\", \"sarcastic\", \"squishy\", \"haunted\"]"
   ]
  },
  {
   "cell_type": "code",
   "execution_count": null,
   "id": "a6b4a043",
   "metadata": {},
   "outputs": [],
   "source": [
    "load_dotenv(override=True)"
   ]
  },
  {
   "cell_type": "code",
   "execution_count": null,
   "id": "0440d313",
   "metadata": {},
   "outputs": [],
   "source": [
    "# Annotated is a type hinting tool that allows you to add metadata to your code.\n",
    "# This can be used by Langraph to understand the type of the input and output of a function.\n",
    "# It is also used to add documentation to the function.\n",
    "def shout(text: Annotated[str, \"something to be shouted\"]) -> str:\n",
    "    print(text.upper())\n",
    "    return text.upper()\n",
    "\n",
    "shout(\"Hello, world!\")"
   ]
  },
  {
   "cell_type": "markdown",
   "id": "094e7f77",
   "metadata": {},
   "source": [
    "#### Step 1: Define a State Object\n",
    "#### Step 2: Start the Graph builder\n",
    "#### Step 3: Create Node\n",
    "#### Step 4: Create Edges\n",
    "#### Step 5: Compile the Graph"
   ]
  },
  {
   "cell_type": "code",
   "execution_count": null,
   "id": "26852012",
   "metadata": {},
   "outputs": [],
   "source": [
    "# Step 1: Define a State Object\n",
    "class State(BaseModel):\n",
    "    messages: Annotated[list, add_messages]\n",
    "\n",
    "# Step 2: Start the Graph builder\n",
    "graph_builder = StateGraph(State)\n",
    "\n",
    "# Step 3: Create Node\n",
    "def node_1(old_state: State) -> State:\n",
    "    reply = f\"{random.choice(nouns)} are {random.choice(adjectives)}\"\n",
    "    messages = [{\"role\": \"assistant\", \"content\": reply}]\n",
    "    new_state = State(messages=messages)\n",
    "    return new_state\n",
    "\n",
    "graph_builder.add_node(\"node_1\", node_1)\n",
    "\n",
    "# Step 4: Create Edges\n",
    "graph_builder.add_edge(START, \"node_1\")\n",
    "graph_builder.add_edge(\"node_1\", END)\n",
    "\n",
    "# Step 5: Compile the Graph\n",
    "graph = graph_builder.compile()\n",
    "\n",
    "display(Image(graph.get_graph().draw_mermaid_png()))"
   ]
  },
  {
   "cell_type": "markdown",
   "id": "8fd91626",
   "metadata": {},
   "source": [
    "#### Step 6: Using the Compiled Graph"
   ]
  },
  {
   "cell_type": "code",
   "execution_count": null,
   "id": "e48815e1",
   "metadata": {},
   "outputs": [],
   "source": [
    "def chat(user_input: str, history):\n",
    "    message = {\"role\": \"user\", \"content\": user_input}\n",
    "    messages = [message]\n",
    "    state = State(messages=messages)\n",
    "    result = graph.invoke(state)\n",
    "    print(result)\n",
    "    return result[\"messages\"][-1].content\n",
    "\n",
    "gr.ChatInterface(chat, type=\"messages\").launch()"
   ]
  },
  {
   "cell_type": "markdown",
   "id": "67f45a48",
   "metadata": {},
   "source": [
    "#### Learnings  \n",
    "    Langraph does not have to have an LLM its a framework to create and run a Graph.  \n",
    "    State -> Current state of the application in our example the message.  \n",
    "    Node -> Functions the takes a state as an input and outputs a new_state.  \n",
    "    Edges -> Functions which specifies which node to run next  \n",
    "        - In our example we setup edges using START and END keywords that Langgraph provides  \n",
    "    Graph -> Structure which consists of multiple Nodes and edges.  \n",
    "        - Start the GraphBuilder\n",
    "        - Create nodes and edges using that GraphBuilder\n",
    "        - Compile the Graph\n",
    "\n",
    "    LAST STEP -> After all this is done we can invoke this graph.  \n",
    "\n",
    "    Notice we did not use any LLM anywhere in the this example becasue we were just learning how Langgraph is setup and works."
   ]
  },
  {
   "cell_type": "markdown",
   "id": "0f979042",
   "metadata": {},
   "source": [
    "#### LLM USE\n",
    "\n",
    "Now we will use LLM in a langraph node.  \n",
    "Node function will invoke and LLM to generate some output.  \n",
    "Imagine the possibilities of this when the Graph has more Nodes and Edges.  "
   ]
  },
  {
   "cell_type": "code",
   "execution_count": null,
   "id": "a0de3e77",
   "metadata": {},
   "outputs": [],
   "source": [
    "# Step1 : Create a State Object\n",
    "class State(BaseModel):\n",
    "    messages: Annotated[list, add_messages]"
   ]
  },
  {
   "cell_type": "code",
   "execution_count": null,
   "id": "d0d56d91",
   "metadata": {},
   "outputs": [],
   "source": [
    "# Step 2: Start the Grpah Builder\n",
    "graph_builder = StateGraph(State)"
   ]
  },
  {
   "cell_type": "code",
   "execution_count": null,
   "id": "fc6b5e65",
   "metadata": {},
   "outputs": [],
   "source": [
    "# Step 3: Create a Node\n",
    "llm = ChatOpenAI(model=\"gpt-4o-mini\")\n",
    "def chatbot_node(old_state: State) -> State:\n",
    "    response = llm.invoke(old_state.messages)\n",
    "    new_state = State(messages=[response])\n",
    "    return new_state\n",
    "\n",
    "graph_builder.add_node(\"chatbot\", chatbot_node)"
   ]
  },
  {
   "cell_type": "code",
   "execution_count": null,
   "id": "00e0ee7b",
   "metadata": {},
   "outputs": [],
   "source": [
    "# Step 4: Add Edges\n",
    "graph_builder.add_edge(START, \"chatbot\")\n",
    "graph_builder.add_edge(\"chatbot\", END)"
   ]
  },
  {
   "cell_type": "code",
   "execution_count": null,
   "id": "d773b8da",
   "metadata": {},
   "outputs": [],
   "source": [
    "# Step 5: Compile the Graph\n",
    "graph = graph_builder.compile()\n",
    "display(Image(graph.get_graph().draw_mermaid_png()))"
   ]
  },
  {
   "cell_type": "markdown",
   "id": "571b6467",
   "metadata": {},
   "source": [
    "#### Use the compiled Graph"
   ]
  },
  {
   "cell_type": "code",
   "execution_count": null,
   "id": "3e656a75",
   "metadata": {},
   "outputs": [],
   "source": [
    "def chat(user_input: str, history):\n",
    "    initial_state = [{\"role\": \"user\", \"content\": user_input}]\n",
    "    state = State(messages=initial_state)\n",
    "    result = graph.invoke(state)\n",
    "    print(result)\n",
    "    return result[\"messages\"][-1].content\n",
    "\n",
    "gr.ChatInterface(chat, type=\"messages\").launch()"
   ]
  },
  {
   "cell_type": "markdown",
   "id": "cf33c394",
   "metadata": {},
   "source": [
    "#### Learnings  \n",
    "    Memory is not used in this example so its a chat app but without memory.  \n",
    "    The interface will show the chats that has happened, but if you ask the LLM the question about any past conversation it wont remember.  \n",
    "    We will solve this in the next practice session."
   ]
  },
  {
   "cell_type": "markdown",
   "id": "b540140f",
   "metadata": {},
   "source": []
  }
 ],
 "metadata": {
  "kernelspec": {
   "display_name": ".venv",
   "language": "python",
   "name": "python3"
  },
  "language_info": {
   "codemirror_mode": {
    "name": "ipython",
    "version": 3
   },
   "file_extension": ".py",
   "mimetype": "text/x-python",
   "name": "python",
   "nbconvert_exporter": "python",
   "pygments_lexer": "ipython3",
   "version": "3.12.11"
  }
 },
 "nbformat": 4,
 "nbformat_minor": 5
}
