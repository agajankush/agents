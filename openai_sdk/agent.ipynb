{
 "cells": [
  {
   "cell_type": "code",
   "execution_count": 59,
   "id": "73a0034f",
   "metadata": {},
   "outputs": [
    {
     "data": {
      "text/plain": [
       "True"
      ]
     },
     "execution_count": 59,
     "metadata": {},
     "output_type": "execute_result"
    }
   ],
   "source": [
    "from dotenv import load_dotenv\n",
    "# OpenAI SDK imports\n",
    "from agents import Agent, Runner, trace, function_tool\n",
    "import asyncio\n",
    "import requests\n",
    "import os\n",
    "load_dotenv(override=True)"
   ]
  },
  {
   "cell_type": "markdown",
   "id": "b7bcbdaa",
   "metadata": {},
   "source": [
    "## Newsletter Signup request to customers\n",
    "Create 3 agents to write a newletter signup email to send to subscribers  \n",
    "Crete a new agent which will select the best out of the three and send a push notification to us which one was selected  \n",
    "\n",
    "#### Practive Tooling\n",
    "Covert the first 3 agents into tools usign OpenAI SDK  \n",
    "Create one more tool for sending the push notification  \n",
    "Create a new agent which will use this all 4 tools to generate -> select -> send the email as a push notification.  "
   ]
  },
  {
   "cell_type": "code",
   "execution_count": 60,
   "id": "882d1b5e",
   "metadata": {},
   "outputs": [],
   "source": [
    "# STEP 1\n",
    "\n",
    "intruction_1 = \"\"\"You are a sales agent working for FinAI, a company that provides AI solutions for financial institutions.\n",
    "You write professional, serious cold emails.\n",
    "\"\"\"\n",
    "intruction_2 = \"\"\"You are a humorous, engaging sales agent working for FinAI, a company that provides AI solutions for financial institutions.\n",
    "You write witty, engaging cols emails that are likely to get a response\n",
    "\"\"\"\n",
    "intruction_3 = \"\"\"You are a busy sales agent working for FinAI, a company that provides AI solutions for financial institutions.\n",
    "You write professional, serious cold emails.\n",
    "\"\"\""
   ]
  },
  {
   "cell_type": "code",
   "execution_count": 61,
   "id": "6ed3fccc",
   "metadata": {},
   "outputs": [],
   "source": [
    "\n",
    "sales_agent_1 = Agent(instructions=intruction_1, name=\"Professional Sales Agent\", model=\"gpt-4o-mini\")\n",
    "sales_agent_2 = Agent(instructions=intruction_2, name=\"Humorous Sales Agent\", model=\"gpt-4o-mini\")\n",
    "sales_agent_3 = Agent(instructions=intruction_3, name=\"Busy Sales Agent\", model=\"gpt-4o-mini\")"
   ]
  },
  {
   "cell_type": "code",
   "execution_count": 62,
   "id": "1fdfabdb",
   "metadata": {},
   "outputs": [],
   "source": [
    "description = \"Write a cold email\"\n",
    "\n",
    "# with trace(\"Fintech Sales Agent\"):\n",
    "#     results = await asyncio.gather(\n",
    "#         Runner.run(sales_agent_1, message),\n",
    "#         Runner.run(sales_agent_2, message),\n",
    "#         Runner.run(sales_agent_3, message),\n",
    "#     )\n",
    "# outputs = [result.final_output for result in results]\n",
    "\n",
    "# for output in outputs:\n",
    "#     print(output, \"\\n\\n\")"
   ]
  },
  {
   "cell_type": "code",
   "execution_count": 63,
   "id": "3a034ddd",
   "metadata": {},
   "outputs": [],
   "source": [
    "# Converting the agents to tools\n",
    "tool1 = sales_agent_1.as_tool(tool_name=\"sales_agent_1\", tool_description=description)\n",
    "tool2 = sales_agent_2.as_tool(tool_name=\"sales_agent_2\", tool_description=description)\n",
    "tool3 = sales_agent_3.as_tool(tool_name=\"sales_agent_3\", tool_description=description)"
   ]
  },
  {
   "cell_type": "code",
   "execution_count": 64,
   "id": "5ab7fc17",
   "metadata": {},
   "outputs": [],
   "source": [
    "# Setup Push notification\n",
    "def push(text):\n",
    "    requests.post(\n",
    "        \"https://api.pushover.net/1/messages.json\",\n",
    "        data={\n",
    "            \"token\": os.getenv(\"PUSHOVER_TOKEN\"),\n",
    "            \"user\": os.getenv(\"PUSHOVER_USER\"),\n",
    "            \"message\": text,\n",
    "        }\n",
    "    )"
   ]
  },
  {
   "cell_type": "code",
   "execution_count": 65,
   "id": "d928f4bc",
   "metadata": {},
   "outputs": [],
   "source": [
    "# There is one more way to create tools using the @funtion_tool decorator from OPENAI SDK\n",
    "@function_tool\n",
    "def send_push_notification(message : str):\n",
    "    push(message)\n",
    "    return {\"status\": \"success\"}"
   ]
  },
  {
   "cell_type": "code",
   "execution_count": 66,
   "id": "6d91b122",
   "metadata": {},
   "outputs": [],
   "source": [
    "# Tools can be used in other agents in our example we will try to write an agent which will help us choose the best email\n",
    "# Also it will send the email to the customer (push notification for simplicity)\n",
    "tools = [tool1, tool2, tool3, send_push_notification]\n",
    "\n",
    "instruction = \"\"\"You are a sales manager at FinAI. Your goal is to find the single best cold sales email using the sales_agent tools.\n",
    "    Follow these steps carefully:\n",
    "    1. Genrate Drafts: Use all three sales_agent tools to generate three different email drafts. Do not proceed until all drafts are ready.\n",
    "    \n",
    "    2. Evaluate and Select: Review the drafts and choose the single best email using your judgment of which one is most effective.\n",
    "    \n",
    "    3. Use the send_push_notification tool to send the best email (and only the best email) to the user.\n",
    "    \n",
    "    Crucial Rules:\n",
    "    - You must use the sales agent tools to generate the drafts - do not write them yourself.\n",
    "    - You must send ONE push notification using the send_push_notification tool - never more than one.\n",
    "    \"\"\"\n",
    "    \n",
    "selection_agent = Agent(\n",
    "    name=\"Sales Agent Manager\",\n",
    "    instructions=instruction,\n",
    "    model=\"gpt-4o-mini\",\n",
    "    tools=tools\n",
    ")\n",
    "\n",
    "message = \"Send a cold email addressed to 'Dear Bank Manager'\"\n",
    "\n",
    "with trace(\"Sales Manager\"):\n",
    "    result = await Runner.run(selection_agent, message)"
   ]
  },
  {
   "cell_type": "markdown",
   "id": "652cb743",
   "metadata": {},
   "source": []
  }
 ],
 "metadata": {
  "kernelspec": {
   "display_name": ".venv",
   "language": "python",
   "name": "python3"
  },
  "language_info": {
   "codemirror_mode": {
    "name": "ipython",
    "version": 3
   },
   "file_extension": ".py",
   "mimetype": "text/x-python",
   "name": "python",
   "nbconvert_exporter": "python",
   "pygments_lexer": "ipython3",
   "version": "3.12.11"
  }
 },
 "nbformat": 4,
 "nbformat_minor": 5
}
