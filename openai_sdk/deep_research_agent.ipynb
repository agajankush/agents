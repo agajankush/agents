{
 "cells": [
  {
   "cell_type": "code",
   "execution_count": null,
   "id": "0cd683ca",
   "metadata": {},
   "outputs": [],
   "source": [
    "from agents import Agent, WebSearchTool, trace, Runner, gen_trace_id, function_tool\n",
    "from agents.model_settings import ModelSettings\n",
    "from pydantic import BaseModel, Field\n",
    "from dotenv import load_dotenv\n",
    "import asyncio\n",
    "import os\n",
    "from typing import Dict\n",
    "from IPython.display import display, Markdown\n",
    "import requests"
   ]
  },
  {
   "cell_type": "code",
   "execution_count": null,
   "id": "b7069e51",
   "metadata": {},
   "outputs": [],
   "source": [
    "load_dotenv(override=True)"
   ]
  },
  {
   "cell_type": "markdown",
   "id": "56f4ff12",
   "metadata": {},
   "source": [
    "##### Search Agent\n",
    "\n",
    "This agent will use the WebSearchTool provided by OpenAI SDK.  \n",
    "OpenAi SDK provides a prompt which can be used for the best search results for the websearch we will use that"
   ]
  },
  {
   "cell_type": "code",
   "execution_count": null,
   "id": "1140bc4f",
   "metadata": {},
   "outputs": [],
   "source": [
    "instructions = \"You are a research assistant. Given a search term, you search the web for that term and \\\n",
    "produce a concise summary of the results. The summary must 2-3 paragraphs and less than 300 \\\n",
    "words. Capture the main points. Write succintly, no need to have complete sentences or good \\\n",
    "grammar. This will be consumed by someone synthesizing a report, so it's vital you capture the \\\n",
    "essence and ignore any fluff. Do not include any additional commentary other than the summary itself.\"\n",
    "\n",
    "search_agent = Agent(\n",
    "    name=\"Search agent\",\n",
    "    instructions=instructions,\n",
    "    tools=[WebSearchTool(search_context_size=\"low\")], # size here determines the context of the search results the more the expensive\n",
    "    model=\"gpt-4o-mini\",\n",
    "    model_settings=ModelSettings(tool_choice=\"required\") # Required means that we will always use the tool when available\n",
    ")"
   ]
  },
  {
   "cell_type": "markdown",
   "id": "05830c90",
   "metadata": {},
   "source": [
    "##### Structured output\n",
    "\n",
    "We will ask an LLM to generate steps to perform a task.  \n",
    "This tasks should be a finite number of searches. The more the better results but also will increase the costs.  \n",
    "Steps:  \n",
    "- Set number of searches.\n",
    "- Write the instruction to generate those searches.\n",
    "- Save them in a list (Structured Output)\n",
    "    - Here we will use the Pydantic model for searches\n",
    "- Write the agent to perfeom the searches and output the type as specified in the Structured output."
   ]
  },
  {
   "cell_type": "code",
   "execution_count": null,
   "id": "3ef476f5",
   "metadata": {},
   "outputs": [],
   "source": [
    "no_of_searches = 3\n",
    "\n",
    "instructions = f\"You are a helpful research assistant. Given a query, come up with a set of web searches \\\n",
    "    to perform to best answer the query. Output {no_of_searches} terms to query for.\"\n",
    "\n",
    "# Pydantic models for Websearch\n",
    "class WebSearchItem(BaseModel):\n",
    "    reason: str = Field(description=\"Your reasoning for why this seach is important to the query.\")\n",
    "    query: str = Field(description=\"The search term to use for the web search.\")\n",
    "\n",
    "class WebSearchPlan(BaseModel):\n",
    "    searches: list[WebSearchItem] = Field(description=\"A list of web searches to perform to best answer the query.\")\n",
    "    \n",
    "# Agent which will output the search terms to use\n",
    "planner_agent = Agent(\n",
    "    name=\"PlannerAgent\",\n",
    "    instructions=instructions,\n",
    "    model=\"gpt-4o-mini\",\n",
    "    output_type=WebSearchPlan\n",
    ")\n"
   ]
  },
  {
   "cell_type": "markdown",
   "id": "163b9c9c",
   "metadata": {},
   "source": [
    "##### Push Notification Setup"
   ]
  },
  {
   "cell_type": "code",
   "execution_count": null,
   "id": "3b83ed05",
   "metadata": {},
   "outputs": [],
   "source": [
    "# Setup Push notification\n",
    "def push(text):\n",
    "    requests.post(\n",
    "        \"https://api.pushover.net/1/messages.json\",\n",
    "        data={\n",
    "            \"token\": os.getenv(\"PUSHOVER_TOKEN\"),\n",
    "            \"user\": os.getenv(\"PUSHOVER_USER\"),\n",
    "            \"message\": text,\n",
    "        }\n",
    "    )\n",
    "@function_tool\n",
    "def send_push_notification(message : str):\n",
    "    push(message)\n",
    "    return {\"status\": \"success\"}"
   ]
  },
  {
   "cell_type": "code",
   "execution_count": null,
   "id": "d5deb4dd",
   "metadata": {},
   "outputs": [],
   "source": [
    "# Agent to send the HTML formatted email\n",
    "instructions = \"\"\"You are able to send a nicely formatted HTML email based on a detailed report.\n",
    "You will be provieded with a detailed report. You should use your tool to send one push notification, providing the report\n",
    "converted into clean, well presented HTML with an appropriate subject line.\"\"\"\n",
    "\n",
    "notification_agent = Agent(\n",
    "    name=\"notification_agent\",\n",
    "    tools=[send_push_notification],\n",
    "    instructions=instructions,\n",
    "    model=\"gpt-4o-mini\",\n",
    ")"
   ]
  },
  {
   "cell_type": "markdown",
   "id": "89fea808",
   "metadata": {},
   "source": [
    "##### Senior Research Agent"
   ]
  },
  {
   "cell_type": "code",
   "execution_count": null,
   "id": "755b752f",
   "metadata": {},
   "outputs": [],
   "source": [
    "instructions = (\n",
    "    \"You are a senior researcher tasked with writing a cohesive report for a research query.\"\n",
    "    \"You will be provided with the original query, and some initial research done by a research assistant \\n\"\n",
    "    \"You should first come up with an outline for the report that describes the structure and \"\n",
    "    \"flow of the report. Then, generate the report and return that as a your final output. \\n\"\n",
    "    \"The final output should be in markdown format, and it should be lengthy and detailed. Aim \"\n",
    "    \"for 5-10 pages of content, at least 1000 words.\"\n",
    ")\n",
    "\n",
    "class ReportData(BaseModel):\n",
    "    short_summary: str = Field(description=\"A short summary of the report, 2-3 sentences.\")\n",
    "    mardown_report: str = Field(description=\"The final report\")\n",
    "    follow_up_questions: list[str] = Field(description=\"Suggested topics to research further\")\n",
    "    \n",
    "writer_agent = Agent(\n",
    "    name=\"WriteAgent\",\n",
    "    instructions=instructions,\n",
    "    model=\"gpt-4o-mini\",\n",
    "    output_type=ReportData,\n",
    ")"
   ]
  },
  {
   "cell_type": "markdown",
   "id": "624da03b",
   "metadata": {},
   "source": [
    "### Plan\n",
    "Now comes the main heavy lifting of the multiagent flow.  \n",
    "Recap:  \n",
    "- Research assistant: Agent which will provide a nofluff reasearch of a particular topic using websearch tools.\n",
    "- Planner Agent: Agent which will divide the research topic into different parts.\n",
    "- Senior Research Agent(writer_agent): Agent who is responsible for generating the report.\n",
    "    - Receives all the research from the assistants and consolidates them to genrate the final report.\n",
    "- Notification Agent: Agent responsible for formatting and sending the final report to the user.\n",
    "    "
   ]
  },
  {
   "cell_type": "code",
   "execution_count": null,
   "id": "fb25bb93",
   "metadata": {},
   "outputs": [],
   "source": [
    "# Create Plan\n",
    "async def plan_searches(query: str):\n",
    "    \"\"\" Uses the planner agent to plan which searched to run for the query \"\"\"\n",
    "    print(\"Planning searches...\")\n",
    "    result = await Runner.run(planner_agent, f\"Query: {query}\")\n",
    "    print(f\"Will perform {len(result.final_output.searches)} searches.\")\n",
    "    return result.final_output\n",
    "\n",
    "# Perform Individual searches helper function\n",
    "async def search(item: WebSearchItem):\n",
    "    \"\"\" Uses the search agent to perform a single search \"\"\"\n",
    "    input = f\"Search term: {item.query}\\nReason for searching: {item.reason}\"\n",
    "    result = await Runner.run(search_agent, input)\n",
    "    return result.final_output\n",
    "    \n",
    "# perform searches in parallel\n",
    "async def perform_searches(search_plan: WebSearchPlan):\n",
    "    \"\"\" Uses the search agent to perform the searches in the search plan \"\"\"\n",
    "    print(\"Performing searches...\")\n",
    "    tasks = [asyncio.create_task(search(item)) for item in search_plan.searches]\n",
    "    results = await asyncio.gather(*tasks)\n",
    "    print(\"Finished searching\")\n",
    "    return results\n"
   ]
  },
  {
   "cell_type": "code",
   "execution_count": null,
   "id": "ef1df8b4",
   "metadata": {},
   "outputs": [],
   "source": [
    "async def write_report(query: str, search_results: list[str]):\n",
    "    \"\"\" Uses the writer agent to write the report based on the query and search results \"\"\"\n",
    "    print(\"Thinking about the report...\")\n",
    "    input = f\"Original Query: {query}\\nSummarized search results: {search_results}\"\n",
    "    result = await Runner.run(writer_agent, input)\n",
    "    print(\"Finished writing report\")\n",
    "    return result.final_output\n",
    "\n",
    "async def send_notification(report: ReportData):\n",
    "    \"\"\" Uses the notification agent to send a notification with the report \"\"\"\n",
    "    result = await Runner.run(notification_agent, report.mardown_report)\n",
    "    print(\"Notification sent\")\n",
    "    return report"
   ]
  },
  {
   "cell_type": "code",
   "execution_count": null,
   "id": "f4a756d8",
   "metadata": {},
   "outputs": [],
   "source": [
    "query = \"Latest AI Agent frameworks in 2025\"\n",
    "\n",
    "with trace(\"Research trace\"):\n",
    "    print(\"Starting research...\")\n",
    "    search_plan = await plan_searches(query)\n",
    "    search_results = await perform_searches(search_plan)\n",
    "    report = await write_report(query, search_results)\n",
    "    await send_notification(report)\n",
    "    print(\"Research completed successfully.\")"
   ]
  },
  {
   "cell_type": "code",
   "execution_count": null,
   "id": "50dbf1dc",
   "metadata": {},
   "outputs": [],
   "source": []
  }
 ],
 "metadata": {
  "kernelspec": {
   "display_name": ".venv",
   "language": "python",
   "name": "python3"
  },
  "language_info": {
   "codemirror_mode": {
    "name": "ipython",
    "version": 3
   },
   "file_extension": ".py",
   "mimetype": "text/x-python",
   "name": "python",
   "nbconvert_exporter": "python",
   "pygments_lexer": "ipython3",
   "version": "3.12.11"
  }
 },
 "nbformat": 4,
 "nbformat_minor": 5
}
