{
 "cells": [
  {
   "cell_type": "markdown",
   "id": "dfc76244",
   "metadata": {},
   "source": [
    "## Newsletter Email agents with Handoffs\n",
    "##### Part 1 (Tools)\n",
    "- Create 3 agents which will write the emails.\n",
    "- Convert them into tools also create another tools which will send the push notification\n",
    "\n",
    "\n",
    "##### Part 2 (Handoff)\n",
    "- Create 2 agents\n",
    "    1. Generate a catchy subject line\n",
    "    2. Convert the email into an HTML.\n",
    "- Create a Handoff agent  \n",
    "    This agent will be the email formatter and sender agent.  \n",
    "    This agent will use the subject_tool, html_tool and send_push_notification as tools\n",
    "    **NOTE: This agent will have an handoff instruction**\n",
    "        This instrution will specify what the agent is going to do\n",
    "\n",
    "##### Part 3 (Sales Manager)\n",
    "- Create a new agent which will be the Sales Manager\n",
    "    - Responsible to use all the tools and Handoffs\n",
    "    - tools -> agent_tools from part 1\n",
    "    - handoffs -> Part2 handoff agent (will use the subject_tool and html_tool internally)\n",
    "\n",
    "##### Part 3.1 (Guardrails -> Udpated Sales Manager)  \n",
    "Guardrails are something we can add at the input (First Agents input) level or at the output (Last agents output) level.  \n",
    "We can use Pydantic models to check the format of the input.\n",
    "- Create a Pydantic object \n",
    "- Create a guardrail agent which will output the pydantic model object.\n",
    "    - output_type: Pydantic Model (Important change)\n",
    "- We can then create a guardrail similar to a tool using a decorator.\n",
    "    - This guardrail will call the Agent with the input message or any message and check its formatting.\n",
    "    - The returned object will tell us if the formatting is correct or incorrect.  \n",
    "    - The output of this object will determine if we trigger the guardrail exception.  \n",
    "        - openAI SDK allows to return a **GuardrailFunctionOutput** which takes care of some things for us.  \n",
    "            1. If triggered it returns and exception(tripwire).  \n",
    "            2. Stops the execution of the agent.  \n",
    "    Note -> There is a specific formatting of how we trigger this gaurdrail in openAI SDK, check the code for the proper formatting.\n",
    "- This gaurdrail runner function we will add it to the final prompt we will call it careful_sales_manager\n",
    "\n",
    "All this will work cohisively to create a well formatted email and send it to the customer."
   ]
  },
  {
   "cell_type": "code",
   "execution_count": null,
   "id": "3ce95362",
   "metadata": {},
   "outputs": [],
   "source": [
    "from dotenv import load_dotenv\n",
    "from agents import Agent, Runner, trace, function_tool, input_guardrail, GuardrailFunctionOutput\n",
    "import os\n",
    "import requests\n",
    "from pydantic import BaseModel"
   ]
  },
  {
   "cell_type": "code",
   "execution_count": null,
   "id": "346485b6",
   "metadata": {},
   "outputs": [],
   "source": [
    "load_dotenv(override=True)"
   ]
  },
  {
   "cell_type": "markdown",
   "id": "aabf108c",
   "metadata": {},
   "source": [
    "### Part 1 (Tools)"
   ]
  },
  {
   "cell_type": "code",
   "execution_count": null,
   "id": "f1ac6676",
   "metadata": {},
   "outputs": [],
   "source": [
    "# PART 1 tools\n",
    "intruction_1 = \"\"\"You are a sales agent working for FinAI, a company that provides AI solutions for financial institutions.\n",
    "You write professional, serious cold emails.\n",
    "\"\"\"\n",
    "intruction_2 = \"\"\"You are a humorous, engaging sales agent working for FinAI, a company that provides AI solutions for financial institutions.\n",
    "You write witty, engaging cols emails that are likely to get a response\n",
    "\"\"\"\n",
    "intruction_3 = \"\"\"You are a busy sales agent working for FinAI, a company that provides AI solutions for financial institutions.\n",
    "You write professional, serious cold emails.\n",
    "\"\"\"\n",
    "sales_agent_1 = Agent(instructions=intruction_1, name=\"Professional Sales Agent\", model=\"gpt-4o-mini\")\n",
    "sales_agent_2 = Agent(instructions=intruction_2, name=\"Humorous Sales Agent\", model=\"gpt-4o-mini\")\n",
    "sales_agent_3 = Agent(instructions=intruction_3, name=\"Busy Sales Agent\", model=\"gpt-4o-mini\")\n",
    "description = \"Write a cold email addressed to 'Dear Bank Manager'\"\n",
    "tool1 = sales_agent_1.as_tool(tool_name=\"sales_agent_1\", tool_description=description)\n",
    "tool2 = sales_agent_2.as_tool(tool_name=\"sales_agent_2\", tool_description=description)\n",
    "tool3 = sales_agent_3.as_tool(tool_name=\"sales_agent_3\", tool_description=description)"
   ]
  },
  {
   "cell_type": "code",
   "execution_count": null,
   "id": "23321c2d",
   "metadata": {},
   "outputs": [],
   "source": [
    "# Push notification helper function\n",
    "def push(text):\n",
    "    requests.post(\n",
    "        \"https://api.pushover.net/1/messages.json\",\n",
    "        data={\n",
    "            \"token\": os.getenv(\"PUSHOVER_TOKEN\"),\n",
    "            \"user\": os.getenv(\"PUSHOVER_USER\"),\n",
    "            \"message\": text,\n",
    "        }\n",
    "    )"
   ]
  },
  {
   "cell_type": "code",
   "execution_count": null,
   "id": "ace85db9",
   "metadata": {},
   "outputs": [],
   "source": [
    "# Tool which send the push notification\n",
    "@function_tool\n",
    "def send_push_notification(message: str) -> None:\n",
    "    \"\"\"Send a push notification with the given message.\"\"\"\n",
    "    push(message)\n",
    "    return {\"status\": \"success\"}"
   ]
  },
  {
   "cell_type": "markdown",
   "id": "35a95b7c",
   "metadata": {},
   "source": [
    "### Part 2 (Handoffs)"
   ]
  },
  {
   "cell_type": "code",
   "execution_count": null,
   "id": "c6271774",
   "metadata": {},
   "outputs": [],
   "source": [
    "# Part 2 (Handoff)\n",
    "\n",
    "subject_instruction = \"Generate a concise, engaging email subject line for a cold sales email. \\\n",
    "    You are given a message and you are needed to generate a subject line for it.\"\n",
    "    \n",
    "html_instruction = \"Generate a professional HTML email body for a cold sales email. \\\n",
    "    You are given a text email body which might have some markdown \\\n",
    "    and you need to convert it to an HTML email body with simple, clear, compelling layout and design.\"\n",
    "    \n",
    "subject_write = Agent(\n",
    "    instructions=subject_instruction, name=\"Subject Writer\", model=\"gpt-4o-mini\"\n",
    ")\n",
    "\n",
    "html_converter = Agent(\n",
    "    instructions=html_instruction, name=\"HTML Converter\", model=\"gpt-4o-mini\"\n",
    ")\n",
    "\n",
    "subject_writer_tool = subject_write.as_tool(tool_name=\"subject_writer\", tool_description=subject_instruction)\n",
    "html_converter_tool = html_converter.as_tool(tool_name=\"html_converter\", tool_description=html_instruction)\n",
    "\n"
   ]
  },
  {
   "cell_type": "code",
   "execution_count": null,
   "id": "e9900a67",
   "metadata": {},
   "outputs": [],
   "source": [
    "# Handoff push notification agent\n",
    "push_notification_instruction = \"\"\"You are an email formatter and sender. You receive the bosy of an email to be sent.\n",
    "You first user the subject_writer_tool to write a subject for the email, then use the html_converter_tool to convert the body to HTML.\n",
    "Finally, you use the send_push_notification tool to send a push notification with the subject and HTML body as text.\n",
    "\"\"\"\n",
    "\n",
    "handoff_push_agent = Agent(\n",
    "    name=\"Handoff Push Notification Agent\",\n",
    "    instructions=push_notification_instruction,\n",
    "    tools=[subject_writer_tool, html_converter_tool, send_push_notification],\n",
    "    model=\"gpt-4o-mini\",\n",
    "    handoff_description=\"Conver the email to HTML and send it as a push notification\"\n",
    ")\n"
   ]
  },
  {
   "cell_type": "markdown",
   "id": "df0bff66",
   "metadata": {},
   "source": [
    "### Part 3 & 3.1 (Upgraded Sales Manager)"
   ]
  },
  {
   "cell_type": "code",
   "execution_count": null,
   "id": "4b66dde6",
   "metadata": {},
   "outputs": [],
   "source": [
    "# Part 3.1 \n",
    "# Guardrail model\n",
    "class NameCheckOutput(BaseModel):\n",
    "    is_name_in_message: bool\n",
    "    name: str\n",
    "\n",
    "guardrail_agent = Agent(\n",
    "    name=\"Name check\",\n",
    "    instructions=\"Check if the user is including someone's personal name in what they want you to do.\",\n",
    "    output_type=NameCheckOutput,\n",
    "    model=\"gpt-4o-mini\"\n",
    ")\n"
   ]
  },
  {
   "cell_type": "code",
   "execution_count": null,
   "id": "f8a956b5",
   "metadata": {},
   "outputs": [],
   "source": [
    "# Guardrail as a tool\n",
    "@input_guardrail\n",
    "async def guardrail_against_name(ctx, agent, message):\n",
    "    result = await Runner.run(guardrail_agent, message, context=ctx.context)\n",
    "    is_name_in_message = result.final_output.is_name_in_message\n",
    "    return GuardrailFunctionOutput(output_info={\"found_name\": result.final_output}, tripwire_triggered=is_name_in_message)"
   ]
  },
  {
   "cell_type": "code",
   "execution_count": null,
   "id": "834584ac",
   "metadata": {},
   "outputs": [],
   "source": [
    "# PART 3\n",
    "\n",
    "sales_manager_instructions = \"\"\"\n",
    "You are a sales manager at FinAI. Your goal is to find the single best cold email using sales_agent tools.\n",
    "\n",
    "Follow this steps carefully:\n",
    "1. Generate Drafts: Use all three sales_agent tools to generate three different cold email drafts. Do not proceed until all three drafts are ready.\n",
    "\n",
    "2. Evaluate and Select: Review the drafts and choose the single best email using your judgement of which one is most effective.\n",
    "You can use the tools multiple times if you're not satisfied with the results from the first try.\n",
    "\n",
    "3. Handoff for Sending: Pass ONLY the winning email draft to the handoff_push_agent(Handoff Push Notification Agent).\n",
    "The handoff_push_agent will take care of the formatting and sending.\n",
    "\n",
    "Crucial Rules:\n",
    "- You must use the sales agent tools to generate the drafts - do not write them yourself.\n",
    "- You must hand off exactly ONE email to the handoff_push_agent(Handoff Push Notification Agent) - never more than one.\n",
    "\"\"\"\n",
    "\n",
    "careful_sales_manager = Agent(\n",
    "    name = \"Sales Manager\",\n",
    "    instructions = sales_manager_instructions,\n",
    "    tools=[tool1, tool2, tool3],\n",
    "    model=\"gpt-4o-mini\",\n",
    "    handoffs=[handoff_push_agent],\n",
    "    input_guardrails=[guardrail_against_name]\n",
    ")\n",
    "\n",
    "# This message will raise and expection since the name \"Ashutosh\" is included in the message.\n",
    "# message = \"Send a cold sales email address to Dead Bank Manager from Ashutosh\"\n",
    "\n",
    "# with trace(\"Sales Manager\"):\n",
    "#     result = await Runner.run(careful_sales_manager, message)\n"
   ]
  },
  {
   "cell_type": "code",
   "execution_count": 19,
   "id": "bd653541",
   "metadata": {},
   "outputs": [],
   "source": [
    "message = \"Sent out a cold sales email addressed to Dear Bank Manager from Head of Business Developement\"\n",
    "\n",
    "with trace(\"Protected Automated SDR\"):\n",
    "    result = await Runner.run(careful_sales_manager, message)"
   ]
  },
  {
   "cell_type": "code",
   "execution_count": null,
   "id": "009411cb",
   "metadata": {},
   "outputs": [],
   "source": []
  }
 ],
 "metadata": {
  "kernelspec": {
   "display_name": ".venv",
   "language": "python",
   "name": "python3"
  },
  "language_info": {
   "codemirror_mode": {
    "name": "ipython",
    "version": 3
   },
   "file_extension": ".py",
   "mimetype": "text/x-python",
   "name": "python",
   "nbconvert_exporter": "python",
   "pygments_lexer": "ipython3",
   "version": "3.12.11"
  }
 },
 "nbformat": 4,
 "nbformat_minor": 5
}
